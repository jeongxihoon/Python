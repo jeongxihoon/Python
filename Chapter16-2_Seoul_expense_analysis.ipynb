{
 "cells": [
  {
   "cell_type": "code",
   "execution_count": null,
   "metadata": {},
   "outputs": [],
   "source": [
    "# 실전 데이터(서울시 업무추진비) 분석"
   ]
  },
  {
   "cell_type": "code",
   "execution_count": null,
   "metadata": {},
   "outputs": [],
   "source": [
    "    # Data 수집"
   ]
  },
  {
   "cell_type": "code",
   "execution_count": null,
   "metadata": {},
   "outputs": [],
   "source": [
    "mkdir Chapter16_Seoul_Data"
   ]
  },
  {
   "cell_type": "code",
   "execution_count": null,
   "metadata": {},
   "outputs": [],
   "source": [
    "import requests\n",
    "import os\n",
    "import pathlib\n",
    "\n",
    "\n",
    "def get_seoul_expense_list(extension, year, data_folder): # 입력 변수 : 확장자, 연도, 내려받을 폴더\n",
    "    expense_list_year_url = 'https://github.com/seoul-opengov/opengov/raw/master/expense_list{0}/'.format(str(year))\n",
    "    \n",
    "    expense_list_year_dir = data_folder + str(year) + '/'\n",
    "    \n",
    "    if (os.path.isdir(expense_list_year_dir)): # 존재하면 True 반환\n",
    "        print('데이터 폴더({0})가 이미 있습니다. {0}년 데이터의 다운로드를 시작합니다.'.format(year))\n",
    "    else:\n",
    "        print('데이터 폴더({0})가 없어서 생성했습니다. {0}년 데이터의 다운로드를 시작합니다.'.format(year))\n",
    "        pathlib.Path(expense_list_year_dir).mkdir(parents = True, exist_ok = True)\n",
    "        \n",
    "    for k in range(12):\n",
    "        file_name = '{0}{1:02d}_expense_list.{2}'.format(year, k + 1, extension)\n",
    "        url = expense_list_year_url + file_name\n",
    "        print(url)\n",
    "        r = requests.get(url)\n",
    "        with open(expense_list_year_dir + file_name, 'wb') as f:\n",
    "            f.write(r.content)\n",
    "            \n",
    "    print('{0}년 데이터의 다운로드가 완료되었습니다.'.format(year))"
   ]
  },
  {
   "cell_type": "code",
   "execution_count": null,
   "metadata": {},
   "outputs": [],
   "source": [
    "extension = 'csv'\n",
    "years = ['2017', '2018', '2019', '2020']\n",
    "data_folder = 'Chapter16_Seoul_Data/seoul_expense/'\n",
    "\n",
    "for year in years:\n",
    "    get_seoul_expense_list(extension, year, data_folder)\n",
    "    "
   ]
  },
  {
   "cell_type": "code",
   "execution_count": null,
   "metadata": {},
   "outputs": [],
   "source": [
    "import glob\n",
    "\n",
    "\n",
    "for year in years:\n",
    "    \n",
    "    path_name = 'Chapter16_Seoul_Data/seoul_expense/{0}/'.format(year)\n",
    "    file_name_for_glob = path_name + '*list.csv'\n",
    "    \n",
    "    csv_files = []\n",
    "\n",
    "    for csv_file in glob.glob(file_name_for_glob):\n",
    "        csv_files.append(csv_file.split('/')[-1])\n",
    "        csv_files.sort()\n",
    "\n",
    "    print('[폴더 이름]', path_name)\n",
    "    print('* CSV 파일:', csv_files)\n",
    "    print('')"
   ]
  },
  {
   "cell_type": "code",
   "execution_count": null,
   "metadata": {},
   "outputs": [],
   "source": [
    "print(file_name_for_glob)\n",
    "glob.glob(file_name_for_glob)"
   ]
  },
  {
   "cell_type": "code",
   "execution_count": null,
   "metadata": {},
   "outputs": [],
   "source": [
    "    # Data 처리"
   ]
  },
  {
   "cell_type": "code",
   "execution_count": null,
   "metadata": {},
   "outputs": [],
   "source": [
    "data_file = 'Chapter16_Seoul_Data/seoul_expense/2017/201701_expense_list.csv'\n",
    "\n",
    "with open(data_file, 'r', encoding = 'utf-8') as f:\n",
    "    line1 = f.readline()\n",
    "    line2 = f.readline()\n",
    "    line3 = f.readline()\n",
    "    \n",
    "    print(line1) # csv 파일의 열 이름\n",
    "    print(line2) # 2번째 줄부터는 Data 값들...\n",
    "    print(line3)"
   ]
  },
  {
   "cell_type": "code",
   "execution_count": null,
   "metadata": {},
   "outputs": [],
   "source": [
    "line1_len = len(line1.split(','))\n",
    "line2_len = len(line2.split(','))\n",
    "line3_len = len(line3.split(','))\n",
    "\n",
    "print('[각 줄의 Data 값의 개수]')\n",
    "print(\"첫째 줄:{}, 둘째 줄:{}, 셋째 줄:{}\".format(line1_len, line2_len, line3_len))"
   ]
  },
  {
   "cell_type": "code",
   "execution_count": null,
   "metadata": {},
   "outputs": [],
   "source": [
    "def change_csv_file_first_line_value(old_file_name, new_file_name):\n",
    "    with open(old_file_name, 'r', encoding = 'utf-8') as f:\n",
    "        lines = f.read().splitlines()\n",
    "        \n",
    "    lines[0] = 'nid,제목,url,부서레벨1,부서레벨2,부서레벨3,부서레벨4,부서레벨5,집행연도,집행월,예산,집행,구분,부서명,집행일시,집행장소,집행목적,대상인원,결제방법,집행금액'\n",
    "    \n",
    "    with open(new_file_name, 'w', encoding = 'utf-8') as f:\n",
    "        f.write('\\n'.join(lines))"
   ]
  },
  {
   "cell_type": "code",
   "execution_count": null,
   "metadata": {},
   "outputs": [],
   "source": [
    "old_file_name = 'Chapter16_Seoul_Data/seoul_expense/2017/201701_expense_list.csv'\n",
    "\n",
    "new_file_name = 'Chapter16_Seoul_Data/seoul_expense/2017/201701_expense_list_new.csv'\n",
    "\n",
    "change_csv_file_first_line_value(old_file_name, new_file_name)"
   ]
  },
  {
   "cell_type": "code",
   "execution_count": null,
   "metadata": {},
   "outputs": [],
   "source": [
    "for year in years:\n",
    "    \n",
    "    print(\"{}년 데이터의 첫 번째 줄의 열 이름을 변경해서 새 파일에 저장합니다.\".format(year))\n",
    "    \n",
    "    for i in range(12):\n",
    "        \n",
    "        old_file_name = 'Chapter16_Seoul_Data/seoul_expense/{0}/{1}{2:02d}_expense_list.csv'.format(year, year, i + 1)\n",
    "        new_file_name = 'Chapter16_Seoul_Data/seoul_expense/{0}/{1}{2:02d}_expense_list_new.csv'.format(year, year, i + 1)\n",
    "        \n",
    "        change_csv_file_first_line_value(old_file_name, new_file_name)\n",
    "        \n",
    "print(\"모든 데이터의 첫 번째 줄의 열 이름을 변경해서 새 파일로 저장했습니다.\")\n",
    "\n",
    "# 이건 내 머리에서 나온 방법인데,,,"
   ]
  },
  {
   "cell_type": "code",
   "execution_count": null,
   "metadata": {},
   "outputs": [],
   "source": [
    "def change_year_csv_file_first_line_value(year, data_folder):\n",
    "    \n",
    "    expense_list_year_dir = data_folder + str(year) + '/'\n",
    "    extension = 'csv'\n",
    "    \n",
    "    for k in range(12):\n",
    "        \n",
    "        old_file_name = expense_list_year_dir + '{0}{1:02d}_expense_list.{2}'.format(year, i + 1, extension)\n",
    "        new_file_name = expense_list_year_dir + '{0}{1:02d}_expense_list_new.{2}'.format(year, i + 1, extension)\n",
    "        \n",
    "        change_csv_file_first_line_value(old_file_name, new_file_name)\n",
    "        \n",
    "        \n",
    "\n",
    "# 함수 적용하는 부분\n",
    "\n",
    "data_folder = 'Chapter16_Seoul_Data/seoul_expense/'\n",
    "years = [2017, 2018, 2019, 2020]\n",
    "\n",
    "for year in years:\n",
    "    print('{}년 데이터의 첫 번째 줄의 열 이름을 변경해서 새 파일에 저장합니다.'.format(year))\n",
    "    change_year_csv_file_first_line_value(year, data_folder)\n",
    "    \n",
    "print('모든 데이터의 첫 번재 줄의 열 이름을 변경해서 새 파일로 저장했습니다.')\n",
    "\n",
    "# 이게 책에서 함수로 구현해서 만든 부분...!"
   ]
  },
  {
   "cell_type": "code",
   "execution_count": null,
   "metadata": {},
   "outputs": [],
   "source": [
    "import glob\n",
    "\n",
    "\n",
    "data_folder = 'Chapter16_Seoul_Data/seoul_expense/'\n",
    "years = [2017, 2018, 2019, 2020]\n",
    "\n",
    "for year in years:\n",
    "    path_name = data_folder + str(year)\n",
    "    print('[폴더 이름] {}'.format(path_name))\n",
    "    \n",
    "    new_csv_files = []\n",
    "    \n",
    "    file_name_for_glob = path_name + '/*_new.csv'\n",
    "    \n",
    "    for new_csv_file in glob.glob(file_name_for_glob):\n",
    "        new_csv_files.append(new_csv_file.split('/')[-1])\n",
    "        new_csv_files.sort()     \n",
    "        \n",
    "    print('* 새롭게 생성된 csv 파일:', new_csv_files)\n",
    "    print('')"
   ]
  },
  {
   "cell_type": "code",
   "execution_count": null,
   "metadata": {},
   "outputs": [],
   "source": [
    "    # Data의 구조 및 결측치 살펴보기"
   ]
  },
  {
   "cell_type": "code",
   "execution_count": null,
   "metadata": {},
   "outputs": [],
   "source": [
    "import pandas as pd\n",
    "\n",
    "expense_list2017_dir = 'Chapter16_Seoul_Data/seoul_expense/2017/'\n",
    "file_name = '201701_expense_list_new.csv'\n",
    "\n",
    "df = pd.read_csv(expense_list2017_dir + file_name)"
   ]
  },
  {
   "cell_type": "code",
   "execution_count": null,
   "metadata": {},
   "outputs": [],
   "source": [
    "df.head(5)"
   ]
  },
  {
   "cell_type": "code",
   "execution_count": null,
   "metadata": {},
   "outputs": [],
   "source": [
    "# 한 해 전체 Data를 DataFrame 형식으로 가져오는 코드\n",
    "\n",
    "import pandas as pd\n",
    "\n",
    "year = 2017\n",
    "expense_list_year_dir = 'Chapter16_Seoul_Data/seoul_expense/{}/'.format(year)\n",
    "\n",
    "df_year = pd.DataFrame()\n",
    "\n",
    "for k in range(12):\n",
    "    \n",
    "    file_name = '{0}{1:02d}_expense_list_new.csv'.format(year, k + 1)\n",
    "    \n",
    "    df_month = pd.read_csv(expense_list_year_dir + file_name, encoding = 'utf-8')\n",
    "    \n",
    "    df_year = df_year.append(df_month, ignore_index = True)"
   ]
  },
  {
   "cell_type": "code",
   "execution_count": null,
   "metadata": {},
   "outputs": [],
   "source": [
    "df_year.head(2)"
   ]
  },
  {
   "cell_type": "code",
   "execution_count": null,
   "metadata": {
    "scrolled": false
   },
   "outputs": [],
   "source": [
    "df_year.tail(2)"
   ]
  },
  {
   "cell_type": "code",
   "execution_count": null,
   "metadata": {
    "scrolled": false
   },
   "outputs": [],
   "source": [
    "df_year.info()"
   ]
  },
  {
   "cell_type": "code",
   "execution_count": null,
   "metadata": {
    "scrolled": false
   },
   "outputs": [],
   "source": [
    "df_year.isna().sum()"
   ]
  },
  {
   "cell_type": "code",
   "execution_count": null,
   "metadata": {},
   "outputs": [],
   "source": [
    "df_year_drop = df_year.drop(columns = ['nid', 'url', '부서레벨3', '부서레벨4', \n",
    "                                       '부서레벨5', '예산', '집행', '구분'])\n",
    "\n",
    "df_year_drop.head(2)"
   ]
  },
  {
   "cell_type": "code",
   "execution_count": null,
   "metadata": {},
   "outputs": [],
   "source": [
    "year = 2017\n",
    "expense_list_year_dir = 'Chapter16_Seoul_Data/seoul_expense/{}/'.format(year)\n",
    "\n",
    "expense_list_tidy_file = '{}_expense_list_tidy.csv'.format(year)\n",
    "\n",
    "df_year_drop.to_csv(expense_list_year_dir + expense_list_tidy_file, index = False)"
   ]
  },
  {
   "cell_type": "code",
   "execution_count": null,
   "metadata": {
    "scrolled": true
   },
   "outputs": [],
   "source": [
    "import os\n",
    "\n",
    "file_name = expense_list_year_dir + expense_list_tidy_file\n",
    "print(file_name)\n",
    "\n",
    "os.path.isfile(file_name)"
   ]
  },
  {
   "cell_type": "code",
   "execution_count": null,
   "metadata": {},
   "outputs": [],
   "source": [
    "# 연도 별로 원하는 열의 Data만 선택해서 새로운 파일로 저장하는 함수\n",
    "\n",
    "import pandas as pd\n",
    "\n",
    "def select_columns_save_file(year, data_folder, drop_columns_list):\n",
    "    \n",
    "    expense_list_year_dir = data_folder + '{}/'.format(year)\n",
    "    expense_list_tidy_file = '{}_expense_list_tidy.csv'.format(year)\n",
    "    \n",
    "    df_year = pd.DataFrame()\n",
    "    \n",
    "    for k in range(12):\n",
    "        \n",
    "        file_name = '{0}{1:02d}_expense_list_new.csv'.format(year, k + 1)\n",
    "        \n",
    "        df_month = pd.read_csv(expense_list_year_dir + file_name, encoding = 'utf-8', index_col = False)\n",
    "        \n",
    "        df_year = df_year.append(df_month, ignore_index = True)\n",
    "        \n",
    "    df_year_drop = df_year.drop(columns = drop_columns_list)\n",
    "    \n",
    "    new_file_name = expense_list_year_dir + expense_list_tidy_file\n",
    "    df_year_drop.to_csv(new_file_name, index = False)\n",
    "    \n",
    "    print('==> {} 파일을 생성했습니다.'.format(expense_list_tidy_file))"
   ]
  },
  {
   "cell_type": "code",
   "execution_count": null,
   "metadata": {},
   "outputs": [],
   "source": [
    "data_folder = 'Chapter16_Seoul_Data/seoul_expense/'\n",
    "years = [2017, 2018, 2019, 2020]\n",
    "drop_columns_list = [\n",
    "    'nid', 'url', '부서레벨3', '부서레벨4', '부서레벨5', '예산', '집행', '구분'\n",
    "]\n",
    "\n",
    "\n",
    "for year in years:\n",
    "    \n",
    "    print('{}년 Data를 정리해서 저장하고 있습니다.'.format(year))\n",
    "    select_columns_save_file(year, data_folder, drop_columns_list)\n",
    "    \n",
    "print('모든 연도의 Data를 정리해서 파일로 저장했습니다.')"
   ]
  },
  {
   "cell_type": "code",
   "execution_count": null,
   "metadata": {},
   "outputs": [],
   "source": [
    "df = pd.read_csv('Chapter16_Seoul_Data/seoul_expense/2020/2020_expense_list_tidy.csv')\n",
    "df"
   ]
  },
  {
   "cell_type": "code",
   "execution_count": null,
   "metadata": {},
   "outputs": [],
   "source": [
    "import os\n",
    "\n",
    "years = [2017, 2018, 2019, 2020]\n",
    "\n",
    "for year in years:\n",
    "    expense_list_year_dir = data_folder + '{}/'.format(year)\n",
    "    expense_list_tidy_file = '{}_expense_list_tidy.csv'.format(year)\n",
    "    \n",
    "    file_name = expense_list_year_dir + expense_list_tidy_file\n",
    "    \n",
    "    print(file_name, '==>', end = \"\")\n",
    "    print(os.path.isfile(file_name))"
   ]
  },
  {
   "cell_type": "code",
   "execution_count": null,
   "metadata": {},
   "outputs": [],
   "source": [
    "# 생성한 파일에 대한 상세한 정보를 알려주는 함수\n",
    "# 파일 생성 시간, 파일 크기 등..."
   ]
  },
  {
   "cell_type": "code",
   "execution_count": null,
   "metadata": {},
   "outputs": [],
   "source": [
    "import os\n",
    "from datetime import datetime\n",
    "\n",
    "\n",
    "def get_file_info(year, data_folder):\n",
    "    \n",
    "    expense_list_year_dir = data_folder + '{}/'.format(year)\n",
    "    expense_list_tidy_file = '{}_expense_list_tidy.csv'.format(year)\n",
    "    \n",
    "    path_file_name = expense_list_year_dir + expense_list_tidy_file\n",
    "    print(path_file_name)\n",
    "    result = os.path.isfile(path_file_name)\n",
    "    \n",
    "    # 파일 수정 시간\n",
    "    modified_time = datetime.fromtimestamp(os.path.getmtime(path_file_name))\n",
    "    \n",
    "    # 파일 생성 시간\n",
    "    created_time = datetime.fromtimestamp(os.path.getctime(path_file_name))\n",
    "    \n",
    "    # 파일 크기\n",
    "    file_size = os.path.getsize(path_file_name)\n",
    "    \n",
    "    if result == True:\n",
    "        print('[생성한 CSV 데이터 파일의 정보]')\n",
    "        print('* 폴더 위치 : {}'.format(expense_list_year_dir))\n",
    "        print('* 파일 이름 : {}'.format(expense_list_tidy_file))\n",
    "        print('* 수정 시간 : {:%Y-%m-%d %H:%M:%S}'.format(modified_time))\n",
    "        print('* 생성 시간 : {}'.format(created_time.strftime('%Y-%m-%d %H:%M:%S')))\n",
    "        print('* 파일 크기 : {0:,} 바이트'.format(file_size))"
   ]
  },
  {
   "cell_type": "code",
   "execution_count": null,
   "metadata": {},
   "outputs": [],
   "source": [
    "years = [2017, 2018, 2019, 2020]\n",
    "data_folder = 'Chapter16_Seoul_Data/seoul_expense/'\n",
    "\n",
    "for year in years:\n",
    "    get_file_info(year, data_folder)\n",
    "    print('')"
   ]
  },
  {
   "cell_type": "code",
   "execution_count": null,
   "metadata": {},
   "outputs": [],
   "source": [
    "    # Data 분석"
   ]
  },
  {
   "cell_type": "code",
   "execution_count": null,
   "metadata": {},
   "outputs": [],
   "source": [
    "import pandas as pd\n",
    "\n",
    "\n",
    "data_folder = 'Chapter16_Seoul_Data/seoul_expense/'\n",
    "years = [2017, 2018, 2019, 2020]\n",
    "\n",
    "df_expense_all = pd.DataFrame()\n",
    "\n",
    "for year in years:\n",
    "    expense_list_year_dir = data_folder + '{}/'.format(year)\n",
    "    expense_list_tidy_file = '{}_expense_list_tidy.csv'.format(year)\n",
    "    \n",
    "    path_file_name = expense_list_year_dir + expense_list_tidy_file\n",
    "    \n",
    "    df_expense = pd.read_csv(path_file_name, low_memory = False, index_col = False)\n",
    "    if year == 2020:\n",
    "        for k, row in df_expense.iterrows():\n",
    "            if df_expense.at[k, '부서레벨1'] == '사업소,':\n",
    "                df_expense.at[k, '부서레벨1'] = '사업소'\n",
    "    df_expense_all = df_expense_all.append(df_expense, ignore_index = True)"
   ]
  },
  {
   "cell_type": "code",
   "execution_count": null,
   "metadata": {},
   "outputs": [],
   "source": [
    "df_expense_all.info()"
   ]
  },
  {
   "cell_type": "code",
   "execution_count": null,
   "metadata": {},
   "outputs": [],
   "source": [
    "df_expense_all['부서레벨1'].value_counts()"
   ]
  },
  {
   "cell_type": "code",
   "execution_count": null,
   "metadata": {},
   "outputs": [],
   "source": [
    "## 연도별 추이 분석"
   ]
  },
  {
   "cell_type": "code",
   "execution_count": null,
   "metadata": {},
   "outputs": [],
   "source": [
    "### 연도별 업무추진비 진행 횟수\n",
    "\n",
    "year_expense = df_expense_all['집행연도'].value_counts()\n",
    "print(type(year_expense))\n",
    "year_expense"
   ]
  },
  {
   "cell_type": "code",
   "execution_count": null,
   "metadata": {},
   "outputs": [],
   "source": [
    "import pandas as pd\n",
    "import matplotlib.pyplot as plt\n",
    "import matplotlib\n",
    "\n",
    "\n",
    "matplotlib.rcParams['font.family'] = 'UnDotum'\n",
    "matplotlib.rcParams['axes.unicode_minus'] = False\n",
    "\n",
    "plt.bar(year_expense.index, year_expense.values, tick_label = year_expense.index, width = 0.5)\n",
    "plt.title(\"연도별 업무추진비 집행 횟수\")\n",
    "plt.xlabel(\"연도\")\n",
    "plt.ylabel(\"집행 횟수\")\n",
    "plt.show()"
   ]
  },
  {
   "cell_type": "code",
   "execution_count": null,
   "metadata": {
    "scrolled": true
   },
   "outputs": [],
   "source": [
    "from matplotlib import font_manager as fm\n",
    "\n",
    "font_list = fm.findSystemFonts(fontpaths=None, fontext='ttf')\n",
    "font_list"
   ]
  },
  {
   "cell_type": "code",
   "execution_count": null,
   "metadata": {},
   "outputs": [],
   "source": [
    "### 집행연도 별 집행금액의 합"
   ]
  },
  {
   "cell_type": "code",
   "execution_count": null,
   "metadata": {},
   "outputs": [],
   "source": [
    "import pandas as pd\n",
    "\n",
    "year_total = pd.pivot_table(df_expense_all, index = ['집행연도'], values = ['집행금액'], aggfunc = 'sum')\n",
    "year_total"
   ]
  },
  {
   "cell_type": "code",
   "execution_count": null,
   "metadata": {},
   "outputs": [],
   "source": [
    "import pandas as pd\n",
    "import matplotlib.pyplot as plt\n",
    "import matplotlib\n",
    "\n",
    "\n",
    "eok_won = 100000000\n",
    "\n",
    "(year_total/eok_won).plot.bar(rot = 0)\n",
    "plt.ylabel(\"집행금액(억원)\")\n",
    "plt.show()"
   ]
  },
  {
   "cell_type": "code",
   "execution_count": null,
   "metadata": {},
   "outputs": [],
   "source": [
    "### 월별 집행금액 분석"
   ]
  },
  {
   "cell_type": "code",
   "execution_count": null,
   "metadata": {},
   "outputs": [],
   "source": [
    "year_month_total = pd.pivot_table(df_expense_all, index = ['집행월'], columns = ['집행연도'], values = ['집행금액'], aggfunc = 'sum')\n",
    "year_month_total"
   ]
  },
  {
   "cell_type": "code",
   "execution_count": null,
   "metadata": {},
   "outputs": [],
   "source": [
    "import pandas as pd\n",
    "import matplotlib.pyplot as plt\n",
    "import matplotlib\n",
    "\n",
    "\n",
    "eok_won = 100000000\n",
    "\n",
    "(year_month_total/eok_won).plot.bar(rot = 0)\n",
    "plt.title(\"업무추진비의 월별 집행금액\")\n",
    "plt.xlabel('집행월')\n",
    "plt.ylabel(\"집행금액(억원)\")\n",
    "plt.legend(['2017년', '2018년', '2019년', '2020년'])\n",
    "plt.show()"
   ]
  },
  {
   "cell_type": "code",
   "execution_count": null,
   "metadata": {},
   "outputs": [],
   "source": [
    "### 부서별 집행 내역 분석"
   ]
  },
  {
   "cell_type": "code",
   "execution_count": null,
   "metadata": {},
   "outputs": [],
   "source": [
    "dept_level1_total = pd.pivot_table(df_expense_all, index = ['부서레벨1'], values = ['집행금액'], aggfunc = 'sum')\n",
    "dept_level1_total"
   ]
  },
  {
   "cell_type": "code",
   "execution_count": null,
   "metadata": {
    "scrolled": false
   },
   "outputs": [],
   "source": [
    "dept_level2_total = pd.pivot_table(df_expense_all, index = ['부서레벨2'], values = ['집행금액'], aggfunc = 'sum')\n",
    "dept_level2_total"
   ]
  },
  {
   "cell_type": "code",
   "execution_count": null,
   "metadata": {},
   "outputs": [],
   "source": [
    "dept_level2_total_top10 = dept_level2_total.sort_values(by = ['집행금액'], ascending = False)[0:10]\n",
    "dept_level2_total_top10"
   ]
  },
  {
   "cell_type": "code",
   "execution_count": null,
   "metadata": {},
   "outputs": [],
   "source": [
    "(dept_level2_total_top10 / eok_won).plot.bar(rot = 80)\n",
    "plt.ylabel('집행금액(억원)')\n",
    "plt.title('업무추진비 집행금액이 높은 상위 10개 부서')\n",
    "plt.show()"
   ]
  },
  {
   "cell_type": "code",
   "execution_count": null,
   "metadata": {},
   "outputs": [],
   "source": [
    "import matplotlib.pyplot as plt\n",
    "from wordcloud import WordCloud\n",
    "\n",
    "korean_font_path = 'NanumGothic.ttf'\n",
    "\n",
    "wc = WordCloud(font_path = korean_font_path, background_color = 'white', width = 800, height = 600)\n",
    "frequencies = dept_level2_total['집행금액']\n",
    "\n",
    "wordcloud_image = wc.generate_from_frequencies(frequencies)\n",
    "\n",
    "plt.figure(figsize = (12, 9))\n",
    "plt.axis('off')\n",
    "plt.imshow(wordcloud_image, interpolation = 'bilinear')\n",
    "plt.show()"
   ]
  },
  {
   "cell_type": "code",
   "execution_count": null,
   "metadata": {},
   "outputs": [],
   "source": [
    "### 요일별 및 시간대별 집행 내역 분석"
   ]
  },
  {
   "cell_type": "code",
   "execution_count": null,
   "metadata": {},
   "outputs": [],
   "source": [
    "df_expense_all['집행일시'].values"
   ]
  },
  {
   "cell_type": "code",
   "execution_count": null,
   "metadata": {},
   "outputs": [],
   "source": [
    "expense_date_time = pd.to_datetime(df_expense_all['집행일시'])\n",
    "expense_date_time"
   ]
  },
  {
   "cell_type": "code",
   "execution_count": null,
   "metadata": {},
   "outputs": [],
   "source": [
    "week_day_name = ['월', '화', '수', '목', '금', '토', '일']\n",
    "\n",
    "df_expense_all['집행일시_요일'] = [week_day_name[weekday] for weekday in expense_date_time.dt.weekday]"
   ]
  },
  {
   "cell_type": "code",
   "execution_count": null,
   "metadata": {},
   "outputs": [],
   "source": [
    "df_expense_all['집행일시_시간'] = [hour for hour in expense_date_time.dt.hour]"
   ]
  },
  {
   "cell_type": "code",
   "execution_count": null,
   "metadata": {},
   "outputs": [],
   "source": [
    "df_expense_all.head(3)"
   ]
  },
  {
   "cell_type": "code",
   "execution_count": null,
   "metadata": {},
   "outputs": [],
   "source": [
    "expense_weekday = df_expense_all['집행일시_요일'].value_counts()\n",
    "expense_weekday"
   ]
  },
  {
   "cell_type": "code",
   "execution_count": null,
   "metadata": {},
   "outputs": [],
   "source": [
    "expense_weekday = expense_weekday.reindex(index = week_day_name)\n",
    "expense_weekday"
   ]
  },
  {
   "cell_type": "code",
   "execution_count": null,
   "metadata": {},
   "outputs": [],
   "source": [
    "expense_weekday.plot.bar(rot = 0)\n",
    "plt.title('요일별 업무추진비 집행 횟수')\n",
    "plt.xlabel('집행 횟수')\n",
    "plt.ylabel('요일')\n",
    "plt.show()"
   ]
  },
  {
   "cell_type": "code",
   "execution_count": null,
   "metadata": {},
   "outputs": [],
   "source": [
    "expense_hour_num = df_expense_all['집행일시_시간'].value_counts()\n",
    "expense_hour_num"
   ]
  },
  {
   "cell_type": "code",
   "execution_count": null,
   "metadata": {},
   "outputs": [],
   "source": [
    "work_hour = [ ((k + 8) % 24) for k in range(24)]\n",
    "\n",
    "expense_hour_num = expense_hour_num.reindex(index = work_hour)\n",
    "expense_hour_num"
   ]
  },
  {
   "cell_type": "code",
   "execution_count": null,
   "metadata": {},
   "outputs": [],
   "source": [
    "expense_hour_num.plot.bar(rot = 0)\n",
    "plt.title(\"시간별 업무추진비 집행 횟수\")\n",
    "plt.xlabel(\"집행 시간\")\n",
    "plt.ylabel(\"집행 횟수\")\n",
    "plt.show()"
   ]
  },
  {
   "cell_type": "code",
   "execution_count": null,
   "metadata": {},
   "outputs": [],
   "source": [
    "expense_hour_total = pd.pivot_table(df_expense_all, index = ['집행일시_시간'], values = ['집행금액'], aggfunc = 'sum')\n",
    "expense_hour_total"
   ]
  },
  {
   "cell_type": "code",
   "execution_count": null,
   "metadata": {},
   "outputs": [],
   "source": [
    "eok_won = 100000000\n",
    "expense_hour_total = expense_hour_total.reindex(index = work_hour)\n",
    "\n",
    "\n",
    "(expense_hour_total / eok_won).plot.bar(rot = 0)\n",
    "plt.title(\"시간대별 업무추진비 집행금액\")\n",
    "plt.xlabel(\"집행일시_시간\")\n",
    "plt.ylabel(\"집행금액(억원)\")\n",
    "plt.show()"
   ]
  },
  {
   "cell_type": "code",
   "execution_count": null,
   "metadata": {},
   "outputs": [],
   "source": []
  }
 ],
 "metadata": {
  "kernelspec": {
   "display_name": "Python 3",
   "language": "python",
   "name": "python3"
  },
  "language_info": {
   "codemirror_mode": {
    "name": "ipython",
    "version": 3
   },
   "file_extension": ".py",
   "mimetype": "text/x-python",
   "name": "python",
   "nbconvert_exporter": "python",
   "pygments_lexer": "ipython3",
   "version": "3.7.4"
  }
 },
 "nbformat": 4,
 "nbformat_minor": 4
}
